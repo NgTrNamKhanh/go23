{
 "cells": [
  {
   "cell_type": "code",
   "execution_count": 6,
   "metadata": {},
   "outputs": [
    {
     "name": "stdout",
     "output_type": "stream",
     "text": [
      "15\n"
     ]
    }
   ],
   "source": [
    "def count_rectangles(arr):\n",
    "    rows = len(arr)\n",
    "    cols = len(arr[0])\n",
    "    count = 0\n",
    "\n",
    "    # Calculate the prefix sums for each row\n",
    "    prefix_sums = [[0 for _ in range(cols + 1)] for _ in range(rows)]\n",
    "    for r in range(rows):\n",
    "        for c in range(cols):\n",
    "            prefix_sums[r][c + 1] = prefix_sums[r][c] + arr[r][c]\n",
    "\n",
    "    # Iterate through all possible pairs of top-left and bottom-right corners\n",
    "    for r1 in range(rows):\n",
    "        for r2 in range(r1, rows):\n",
    "            for c1 in range(cols):\n",
    "                for c2 in range(c1, cols):\n",
    "                    # Calculate the sum of 1's in the current region using prefix sums\n",
    "                    region_sum = 0\n",
    "                    for row in range(r1, r2 + 1):\n",
    "                        region_sum += prefix_sums[row][c2 + 1] - prefix_sums[row][c1]\n",
    "                    \n",
    "                    # Check if the region forms a valid rectangle\n",
    "                    if region_sum == (r2 - r1 + 1) * (c2 - c1 + 1):\n",
    "                        count += 1\n",
    "\n",
    "    return count\n",
    "\n",
    "# Given 2D array\n",
    "arr = [\n",
    "    [0, 0, 0, 1, 1, 1],\n",
    "    [0, 0, 0, 1, 1, 0],\n",
    "    [0, 0, 0, 1, 0, 0]\n",
    "]\n",
    "\n",
    "result = count_rectangles(arr)\n",
    "print(result)  # Output: 3"
   ]
  }
 ],
 "metadata": {
  "kernelspec": {
   "display_name": "Python 3",
   "language": "python",
   "name": "python3"
  },
  "language_info": {
   "codemirror_mode": {
    "name": "ipython",
    "version": 3
   },
   "file_extension": ".py",
   "mimetype": "text/x-python",
   "name": "python",
   "nbconvert_exporter": "python",
   "pygments_lexer": "ipython3",
   "version": "3.11.2"
  },
  "orig_nbformat": 4
 },
 "nbformat": 4,
 "nbformat_minor": 2
}
