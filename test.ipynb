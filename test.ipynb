{
 "cells": [
  {
   "cell_type": "code",
   "execution_count": 2,
   "metadata": {},
   "outputs": [
    {
     "name": "stdout",
     "output_type": "stream",
     "text": [
      "3\n"
     ]
    }
   ],
   "source": [
    "def countRectangles(board):\n",
    "    if not board or not board[0]:\n",
    "        return 0\n",
    "\n",
    "    def dfs(row, col):\n",
    "        if row < 0 or row >= len(board) or col < 0 or col >= len(board[0]) or board[row][col] == 0:\n",
    "            return 0\n",
    "        board[row][col] = 0  # Mark cell as visited\n",
    "        count = 1  # Count for the current cell\n",
    "        count += dfs(row + 1, col)  # Explore down\n",
    "        count += dfs(row, col + 1)  # Explore right\n",
    "        return count\n",
    "\n",
    "    rectangles_count = 0\n",
    "    for row in range(len(board)):\n",
    "        for col in range(len(board[0])):\n",
    "            if board[row][col] == 1:\n",
    "                rectangles_count += 1\n",
    "                size_of_rectangle = dfs(row, col)\n",
    "                print(f\"Rectangle {rectangles_count}: Size {size_of_rectangle}\")\n",
    "\n",
    "    return rectangles_count\n",
    "\n",
    "\n",
    "# Example usage:\n",
    "board = [\n",
    "    [1, 1, 0, 0],\n",
    "    [1, 1, 0, 0],\n",
    "    [0, 0, 1, 1],\n",
    "    [0, 0, 1, 1],\n",
    "    [1, 0, 0, 1],\n",
    "]\n",
    "\n",
    "print(countRectangles(board))  # Output: 4"
   ]
  }
 ],
 "metadata": {
  "kernelspec": {
   "display_name": "Python 3",
   "language": "python",
   "name": "python3"
  },
  "language_info": {
   "codemirror_mode": {
    "name": "ipython",
    "version": 3
   },
   "file_extension": ".py",
   "mimetype": "text/x-python",
   "name": "python",
   "nbconvert_exporter": "python",
   "pygments_lexer": "ipython3",
   "version": "3.11.2"
  },
  "orig_nbformat": 4
 },
 "nbformat": 4,
 "nbformat_minor": 2
}
